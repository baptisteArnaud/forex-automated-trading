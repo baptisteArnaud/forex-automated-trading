{
 "cells": [
  {
   "cell_type": "code",
   "execution_count": 4,
   "metadata": {},
   "outputs": [
    {
     "name": "stdout",
     "output_type": "stream",
     "text": [
      "REQUEST: v3/instruments/DE30_EUR/candles InstrumentsCandles {'granularity': 'H1', 'includeFirst': True, 'from': '2019-01-01T00:00:00Z', 'to': '2019-07-28T07:00:00Z'}, received: 2954\n",
      "REQUEST: v3/instruments/DE30_EUR/candles InstrumentsCandles {'granularity': 'H1', 'includeFirst': True, 'from': '2019-07-28T07:00:00Z', 'to': '2019-08-22T17:41:29Z'}, received: 378\n",
      "Check the datafile: ./DE30_EUR.H1.out under /tmp!, it contains 3332 records\n"
     ]
    }
   ],
   "source": [
    "import json\n",
    "import oandapyV20\n",
    "import oandapyV20.endpoints.instruments as instruments\n",
    "from oandapyV20.contrib.factories import InstrumentsCandlesFactory\n",
    "\n",
    "client = oandapyV20.API(access_token='4f3028fb81c7d0251ce5c0dbdffe1c43-c9445425731b0f7b53e78228e12d9745')\n",
    "\n",
    "instrument = \"DE30_EUR\"\n",
    "params = {\n",
    "    \"from\": \"2019-01-01T00:00:00Z\",\n",
    "    \"granularity\": \"H1\",\n",
    "    \"count\": 4999\n",
    "}\n",
    "\n",
    "def cnv(r, h):\n",
    "    # get all candles from the response and write them as a record to the filehandle h\n",
    "    for candle in r.get('candles'):\n",
    "        ctime = candle.get('time')[0:19]\n",
    "        try:\n",
    "            rec = \"{time},{complete},{o},{h},{l},{c},{v}\".format(\n",
    "                time=ctime,\n",
    "                complete=candle['complete'],\n",
    "                o=candle['mid']['o'],\n",
    "                h=candle['mid']['h'],\n",
    "                l=candle['mid']['l'],\n",
    "                c=candle['mid']['c'],\n",
    "                v=candle['volume'],\n",
    "            )\n",
    "        except Exception as e:\n",
    "            print(e, r)\n",
    "        else:\n",
    "            h.write(rec+\"\\n\")\n",
    "\n",
    "datafile = \"./{}.{}.out\".format(instrument, params['granularity'])\n",
    "with open(datafile, \"w\") as O:\n",
    "    n = 0\n",
    "    for r in InstrumentsCandlesFactory(instrument=instrument, params=params):\n",
    "        rv = client.request(r)\n",
    "        cnt = len(r.response.get('candles'))\n",
    "        print(\"REQUEST: {} {} {}, received: {}\".format(r, r.__class__.__name__, r.params, cnt))\n",
    "        n += cnt\n",
    "        cnv(r.response, O)\n",
    "    print(\"Check the datafile: {} under /tmp!, it contains {} records\".format(datafile, n))"
   ]
  },
  {
   "cell_type": "code",
   "execution_count": null,
   "metadata": {},
   "outputs": [],
   "source": []
  },
  {
   "cell_type": "code",
   "execution_count": null,
   "metadata": {},
   "outputs": [],
   "source": []
  }
 ],
 "metadata": {
  "kernelspec": {
   "display_name": "Python 3",
   "language": "python",
   "name": "python3"
  },
  "language_info": {
   "codemirror_mode": {
    "name": "ipython",
    "version": 3
   },
   "file_extension": ".py",
   "mimetype": "text/x-python",
   "name": "python",
   "nbconvert_exporter": "python",
   "pygments_lexer": "ipython3",
   "version": "3.6.8"
  }
 },
 "nbformat": 4,
 "nbformat_minor": 2
}
